{
 "cells": [
  {
   "cell_type": "markdown",
   "id": "5ea951bc",
   "metadata": {},
   "source": [
    "# Meesho Sales Analysis\n",
    "Synthetic dataset EDA and visuals."
   ]
  },
  {
   "cell_type": "code",
   "execution_count": null,
   "id": "b52fb4d7",
   "metadata": {},
   "outputs": [],
   "source": [
    "import pandas as pd\n",
    "import numpy as np\n",
    "import matplotlib.pyplot as plt\n",
    "from datetime import datetime\n",
    "\n",
    "df = pd.read_csv('meesho_sales.csv', parse_dates=['OrderDate','ShipDate'])\n",
    "df.head()"
   ]
  },
  {
   "cell_type": "markdown",
   "id": "3c519989",
   "metadata": {},
   "source": [
    "## KPIs"
   ]
  },
  {
   "cell_type": "code",
   "execution_count": null,
   "id": "727c73bd",
   "metadata": {},
   "outputs": [],
   "source": [
    "kpis = {\n",
    "  'orders': len(df),\n",
    "  'units': int(df['Units'].sum()),\n",
    "  'net_sales': float(df['NetSales'].sum()),\n",
    "  'profit': float(df['Profit'].sum()),\n",
    "}\n",
    "aov = df['NetSales'].mean()\n",
    "profit_margin = 100*kpis['profit']/kpis['net_sales'] if kpis['net_sales'] else 0\n",
    "kpis, aov, profit_margin"
   ]
  },
  {
   "cell_type": "markdown",
   "id": "96d1b8d0",
   "metadata": {},
   "source": [
    "## Monthly Trends"
   ]
  },
  {
   "cell_type": "code",
   "execution_count": null,
   "id": "f421f47c",
   "metadata": {},
   "outputs": [],
   "source": [
    "monthly = df.groupby(df['OrderDate'].values.astype('datetime64[M]')).agg(\n",
    "    Orders=('OrderID','count'), Units=('Units','sum'),\n",
    "    NetSales=('NetSales','sum'), Profit=('Profit','sum')\n",
    ").reset_index().rename(columns={'OrderDate':'Month'})\n",
    "plt.figure(); plt.plot(monthly['Month'].dt.strftime('%Y-%m'), monthly['NetSales']);\n",
    "plt.xticks(rotation=45, ha='right'); plt.title('Monthly Net Sales'); plt.xlabel('Month'); plt.ylabel('Net Sales (₹)'); plt.show()\n",
    "plt.figure(); plt.plot(monthly['Month'].dt.strftime('%Y-%m'), monthly['Profit']);\n",
    "plt.xticks(rotation=45, ha='right'); plt.title('Monthly Profit'); plt.xlabel('Month'); plt.ylabel('Profit (₹)'); plt.show()"
   ]
  },
  {
   "cell_type": "markdown",
   "id": "7b66dff3",
   "metadata": {},
   "source": [
    "## Category & Geography"
   ]
  },
  {
   "cell_type": "code",
   "execution_count": null,
   "id": "b61b58e6",
   "metadata": {},
   "outputs": [],
   "source": [
    "cat_sum = df.groupby('Category')['NetSales'].sum().sort_values(ascending=False)\n",
    "plt.figure(); plt.bar(cat_sum.index, cat_sum.values);\n",
    "plt.title('Net Sales by Category'); plt.xlabel('Category'); plt.ylabel('Net Sales (₹)'); plt.show()\n",
    "\n",
    "state_sum = df.groupby('State')['NetSales'].sum().sort_values(ascending=False).head(10)\n",
    "plt.figure(); plt.bar(state_sum.index, state_sum.values);\n",
    "plt.title('Top States by Net Sales'); plt.xlabel('State'); plt.ylabel('Net Sales (₹)'); plt.xticks(rotation=30, ha='right'); plt.show()"
   ]
  },
  {
   "cell_type": "markdown",
   "id": "926057e9",
   "metadata": {},
   "source": [
    "## Payment Mix & Returns"
   ]
  },
  {
   "cell_type": "code",
   "execution_count": null,
   "id": "b5c51bc4",
   "metadata": {},
   "outputs": [],
   "source": [
    "pm = df['PaymentMethod'].value_counts()\n",
    "plt.figure(); plt.bar(pm.index.astype(str), pm.values);\n",
    "plt.title('Orders by Payment Method'); plt.xlabel('Payment Method'); plt.ylabel('Orders'); plt.show()\n",
    "\n",
    "ret_rate = df.groupby('Category')['Returned'].mean().sort_values(ascending=False)\n",
    "plt.figure(); plt.bar(ret_rate.index, ret_rate.values*100);\n",
    "plt.title('Return Rate by Category (%)'); plt.xlabel('Category'); plt.ylabel('Return Rate (%)'); plt.show()"
   ]
  },
  {
   "cell_type": "markdown",
   "id": "f15ca5b9",
   "metadata": {},
   "source": [
    "## Discount vs Profit"
   ]
  },
  {
   "cell_type": "code",
   "execution_count": null,
   "id": "8d8d3774",
   "metadata": {},
   "outputs": [],
   "source": [
    "sample = df.sample(min(len(df), 1000), random_state=42)\n",
    "plt.figure(); plt.scatter(sample['DiscountPct']*100, sample['Profit']);\n",
    "plt.title('Discount % vs Profit per Order'); plt.xlabel('Discount (%)'); plt.ylabel('Profit (₹)'); plt.show()"
   ]
  }
 ],
 "metadata": {},
 "nbformat": 4,
 "nbformat_minor": 5
}
